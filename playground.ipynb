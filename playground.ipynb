{
 "cells": [
  {
   "cell_type": "code",
   "execution_count": 4,
   "metadata": {},
   "outputs": [],
   "source": [
    "from ftplib import FTP\n",
    "import os\n",
    "import gzip\n",
    "import xml.etree.ElementTree as ET\n",
    "import pandas as pd"
   ]
  },
  {
   "cell_type": "code",
   "execution_count": 13,
   "metadata": {},
   "outputs": [],
   "source": [
    "save_path = \"./pubmed_data/\"\n",
    "\n",
    "data = []\n",
    "for file in os.listdir(save_path):\n",
    "    if file.endswith('.xml'):\n",
    "        tree = ET.parse(os.path.join(save_path, file))\n",
    "        root = tree.getroot()\n",
    "        \n",
    "        for article in root.findall('.//PubmedArticle'):\n",
    "            language = article.find('.//Language').text if article.find('.//Language') is not None else None\n",
    "            abstract = article.find('.//AbstractText').text if article.find('.//AbstractText') is not None else None\n",
    "            \n",
    "            if language and language.lower() == 'eng' and abstract:\n",
    "                pub_id = article.find('.//PMID').text\n",
    "                article_title = article.find('.//ArticleTitle').text if article.find('.//ArticleTitle') is not None else None\n",
    "                year = article.find('.//DateCompleted')\n",
    "                year = year.find('.//Year').text if year is not None else None\n",
    "                journal = article.find('.//Journal')\n",
    "                journal_title = journal.find('.//Title').text if journal is not None else None\n",
    "                mesh_descriptor = [mesh_heading.text for mesh_heading in article.findall('.//MeshHeading/DescriptorName')]\n",
    "                mesh_qualifier = [mesh_heading.text for mesh_heading in article.findall('.//MeshHeading/QualifierName')]\n",
    "                \n",
    "                data.append({\n",
    "                    'pmid': pub_id,\n",
    "                    'year': year,\n",
    "                    'title': article_title,\n",
    "                    'journal': journal_title,\n",
    "                    'abstract': abstract,\n",
    "                    'mesh_descriptor': mesh_descriptor,\n",
    "                    'mesh_qualifier': mesh_qualifier\n",
    "                })\n",
    "\n",
    "# Convert data to a pandas DataFrame\n",
    "df = pd.DataFrame(data)"
   ]
  }
 ],
 "metadata": {
  "kernelspec": {
   "display_name": "base",
   "language": "python",
   "name": "python3"
  },
  "language_info": {
   "codemirror_mode": {
    "name": "ipython",
    "version": 3
   },
   "file_extension": ".py",
   "mimetype": "text/x-python",
   "name": "python",
   "nbconvert_exporter": "python",
   "pygments_lexer": "ipython3",
   "version": "3.11.5"
  }
 },
 "nbformat": 4,
 "nbformat_minor": 2
}
